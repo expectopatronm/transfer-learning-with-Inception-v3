{
 "cells": [
  {
   "cell_type": "code",
   "execution_count": 1,
   "metadata": {
    "collapsed": true
   },
   "outputs": [],
   "source": [
    "import re\n",
    "import os\n",
    "import shutil\n",
    "import numpy as np"
   ]
  },
  {
   "cell_type": "code",
   "execution_count": 19,
   "outputs": [],
   "source": [
    "def get_label(name):\n",
    "    \"\"\"Retrieves the label from an image filename\"\"\"\n",
    "    label_regex = '(\\w+)_\\d+.jpg'\n",
    "    match = re.match(label_regex, name)\n",
    "    return match.group(1)"
   ],
   "metadata": {
    "collapsed": false,
    "pycharm": {
     "name": "#%%\n"
    }
   }
  },
  {
   "cell_type": "code",
   "execution_count": 33,
   "outputs": [],
   "source": [
    "your_path = 'JPEGImages/'\n",
    "my_path = 'dataset/'\n",
    "# splits_path_train = 'ImageSplits/train.txt'\n",
    "# splits_path_test = 'ImageSplits/test.txt'"
   ],
   "metadata": {
    "collapsed": false,
    "pycharm": {
     "name": "#%%\n"
    }
   }
  },
  {
   "cell_type": "code",
   "execution_count": 34,
   "outputs": [],
   "source": [
    "# files = os.listdir(your_path)\n",
    "# for file in files:\n",
    "#     label = get_label(file)\n",
    "#     shutil.copy(your_path + file, my_path + label)"
   ],
   "metadata": {
    "collapsed": false,
    "pycharm": {
     "name": "#%%\n"
    }
   }
  },
  {
   "cell_type": "code",
   "execution_count": 35,
   "outputs": [],
   "source": [
    "train_data_dir = 'dataset/train/'\n",
    "test_data_dir = 'dataset/test/'\n",
    "\n",
    "# with open(splits_path_train, 'r') as f_train:\n",
    "#     for line in f_train:\n",
    "#         label = get_label(line)\n",
    "#         line = line.replace('\\n','')\n",
    "#         shutil.copy(your_path + line, train_data_dir + label + '/' + line)\n",
    "#\n",
    "# with open(splits_path_test, 'r') as f_test:\n",
    "#     for line in f_test:\n",
    "#         label = get_label(line)\n",
    "#         line = line.replace('\\n','')\n",
    "#         shutil.copy(your_path + line, test_data_dir + label + '/' + line)"
   ],
   "metadata": {
    "collapsed": false,
    "pycharm": {
     "name": "#%%\n"
    }
   }
  },
  {
   "cell_type": "code",
   "execution_count": 36,
   "outputs": [],
   "source": [
    "import torch\n",
    "from torch.utils.data.sampler import SubsetRandomSampler\n",
    "import torchvision\n",
    "from torchvision import datasets, transforms\n",
    "\n",
    "from torch import nn\n",
    "from torch import optim"
   ],
   "metadata": {
    "collapsed": false,
    "pycharm": {
     "name": "#%%\n"
    }
   }
  },
  {
   "cell_type": "code",
   "execution_count": 3,
   "outputs": [],
   "source": [
    "# data_dir = 'dataset'\n",
    "#\n",
    "# def load_split_train_test(datadir, valid_size = .2):\n",
    "#     train_transforms = transforms.Compose([transforms.Resize([299,299]),\n",
    "#                                        transforms.ToTensor(),\n",
    "#                                        transforms.Normalize([0.485, 0.456, 0.406], [0.229, 0.224, 0.225])])\n",
    "#\n",
    "#     test_transforms = transforms.Compose([transforms.Resize([299,299]),\n",
    "#                                       transforms.ToTensor(),\n",
    "#                                       transforms.Normalize([0.485, 0.456, 0.406], [0.229, 0.224, 0.225])])\n",
    "#\n",
    "#     train_data = datasets.ImageFolder(datadir, transform=train_transforms)\n",
    "#     test_data = datasets.ImageFolder(datadir, transform=test_transforms)\n",
    "#\n",
    "#     num_train = len(train_data)\n",
    "#     indices = list(range(num_train))\n",
    "#     split = int(np.floor(valid_size * num_train))\n",
    "#     np.random.shuffle(indices)\n",
    "#\n",
    "#     train_idx, test_idx = indices[split:], indices[:split]\n",
    "#     train_sampler = SubsetRandomSampler(train_idx)\n",
    "#     test_sampler = SubsetRandomSampler(test_idx)\n",
    "#\n",
    "#     trainloader = torch.utils.data.DataLoader(train_data, sampler=train_sampler, batch_size=64)\n",
    "#     testloader = torch.utils.data.DataLoader(test_data, sampler=test_sampler, batch_size=64)\n",
    "#\n",
    "#     return trainloader, testloader"
   ],
   "metadata": {
    "collapsed": false,
    "pycharm": {
     "name": "#%%\n"
    }
   }
  },
  {
   "cell_type": "code",
   "execution_count": null,
   "outputs": [],
   "source": [
    "# trainloader, testloader = load_split_train_test(data_dir, .2)"
   ],
   "metadata": {
    "collapsed": false,
    "pycharm": {
     "name": "#%%\n"
    }
   }
  },
  {
   "cell_type": "code",
   "execution_count": 39,
   "outputs": [],
   "source": [
    "train_transforms = transforms.Compose([transforms.Resize([299,299]),\n",
    "                                       transforms.ToTensor(),\n",
    "                                       transforms.Normalize([0.485, 0.456, 0.406], [0.229, 0.224, 0.225])])\n",
    "\n",
    "test_transforms = transforms.Compose([transforms.Resize([299,299]),\n",
    "                                      transforms.ToTensor(),\n",
    "                                      transforms.Normalize([0.485, 0.456, 0.406], [0.229, 0.224, 0.225])])\n",
    "\n",
    "train_data = datasets.ImageFolder(train_data_dir, transform=train_transforms)\n",
    "test_data = datasets.ImageFolder(test_data_dir, transform=test_transforms)\n",
    "\n",
    "trainloader = torch.utils.data.DataLoader(train_data, shuffle=True, num_workers=4, batch_size=64)\n",
    "testloader = torch.utils.data.DataLoader(test_data, shuffle=True, num_workers=4, batch_size=64)"
   ],
   "metadata": {
    "collapsed": false,
    "pycharm": {
     "name": "#%%\n"
    }
   }
  },
  {
   "cell_type": "code",
   "execution_count": 40,
   "outputs": [
    {
     "name": "stdout",
     "output_type": "stream",
     "text": [
      "['applauding', 'blowing_bubbles', 'brushing_teeth', 'cleaning_the_floor', 'climbing', 'cooking', 'cutting_trees', 'cutting_vegetables', 'drinking', 'feeding_a_horse', 'fishing', 'fixing_a_bike', 'fixing_a_car', 'gardening', 'holding_an_umbrella', 'jumping', 'looking_through_a_microscope', 'looking_through_a_telescope', 'phoning', 'playing_guitar', 'playing_violin', 'pouring_liquid', 'pushing_a_cart', 'reading', 'riding_a_bike', 'riding_a_horse', 'rowing_a_boat', 'running', 'shooting_an_arrow', 'smoking', 'taking_photos', 'texting_message', 'throwing_frisby', 'using_a_computer', 'walking_the_dog', 'washing_dishes', 'watching_TV', 'waving_hands', 'writing_on_a_board', 'writing_on_a_book']\n",
      "['applauding', 'blowing_bubbles', 'brushing_teeth', 'cleaning_the_floor', 'climbing', 'cooking', 'cutting_trees', 'cutting_vegetables', 'drinking', 'feeding_a_horse', 'fishing', 'fixing_a_bike', 'fixing_a_car', 'gardening', 'holding_an_umbrella', 'jumping', 'looking_through_a_microscope', 'looking_through_a_telescope', 'phoning', 'playing_guitar', 'playing_violin', 'pouring_liquid', 'pushing_a_cart', 'reading', 'riding_a_bike', 'riding_a_horse', 'rowing_a_boat', 'running', 'shooting_an_arrow', 'smoking', 'taking_photos', 'texting_message', 'throwing_frisby', 'using_a_computer', 'walking_the_dog', 'washing_dishes', 'watching_TV', 'waving_hands', 'writing_on_a_board', 'writing_on_a_book']\n"
     ]
    }
   ],
   "source": [
    "print(trainloader.dataset.classes)\n",
    "print(testloader.dataset.classes)"
   ],
   "metadata": {
    "collapsed": false,
    "pycharm": {
     "name": "#%%\n"
    }
   }
  },
  {
   "cell_type": "code",
   "execution_count": 41,
   "outputs": [
    {
     "name": "stdout",
     "output_type": "stream",
     "text": [
      "model initialized\n"
     ]
    }
   ],
   "source": [
    "activity_model = torchvision.models.inception_v3(pretrained=True, aux_logits=False)\n",
    "print('model initialized')"
   ],
   "metadata": {
    "collapsed": false,
    "pycharm": {
     "name": "#%%\n"
    }
   }
  },
  {
   "cell_type": "code",
   "execution_count": 42,
   "outputs": [],
   "source": [
    "for param in activity_model.parameters():\n",
    "    param.requires_grad = False\n",
    "\n",
    "activity_model.fc =  nn.Linear(2048, len(trainloader.dataset.classes))\n",
    "\n",
    "criterion = nn.CrossEntropyLoss()\n",
    "optimizer = optim.Adam(activity_model.parameters(), lr=0.001)"
   ],
   "metadata": {
    "collapsed": false,
    "pycharm": {
     "name": "#%%\n"
    }
   }
  },
  {
   "cell_type": "code",
   "execution_count": 43,
   "outputs": [
    {
     "name": "stdout",
     "output_type": "stream",
     "text": [
      "Epoch 1/50.. Train loss: 3.661.. Test loss: 3.413.. Test accuracy: 0.182\n",
      "Epoch 1/50.. Train loss: 3.381.. Test loss: 3.093.. Test accuracy: 0.315\n",
      "Epoch 1/50.. Train loss: 3.045.. Test loss: 2.796.. Test accuracy: 0.511\n",
      "Epoch 1/50.. Train loss: 2.775.. Test loss: 2.598.. Test accuracy: 0.527\n",
      "Epoch 1/50.. Train loss: 2.550.. Test loss: 2.361.. Test accuracy: 0.548\n",
      "Epoch 1/50.. Train loss: 2.392.. Test loss: 2.209.. Test accuracy: 0.556\n",
      "Epoch 2/50.. Train loss: 2.101.. Test loss: 2.082.. Test accuracy: 0.574\n",
      "Epoch 2/50.. Train loss: 2.002.. Test loss: 1.956.. Test accuracy: 0.590\n",
      "Epoch 2/50.. Train loss: 1.852.. Test loss: 1.871.. Test accuracy: 0.608\n",
      "Epoch 2/50.. Train loss: 1.864.. Test loss: 1.747.. Test accuracy: 0.622\n",
      "Epoch 2/50.. Train loss: 1.746.. Test loss: 1.690.. Test accuracy: 0.634\n",
      "Epoch 2/50.. Train loss: 1.735.. Test loss: 1.651.. Test accuracy: 0.625\n",
      "Epoch 3/50.. Train loss: 1.649.. Test loss: 1.607.. Test accuracy: 0.638\n",
      "Epoch 3/50.. Train loss: 1.415.. Test loss: 1.530.. Test accuracy: 0.653\n",
      "Epoch 3/50.. Train loss: 1.469.. Test loss: 1.489.. Test accuracy: 0.646\n",
      "Epoch 3/50.. Train loss: 1.414.. Test loss: 1.479.. Test accuracy: 0.652\n",
      "Epoch 3/50.. Train loss: 1.466.. Test loss: 1.419.. Test accuracy: 0.659\n",
      "Epoch 3/50.. Train loss: 1.353.. Test loss: 1.399.. Test accuracy: 0.665\n",
      "Epoch 4/50.. Train loss: 1.363.. Test loss: 1.374.. Test accuracy: 0.661\n",
      "Epoch 4/50.. Train loss: 1.215.. Test loss: 1.342.. Test accuracy: 0.666\n",
      "Epoch 4/50.. Train loss: 1.285.. Test loss: 1.343.. Test accuracy: 0.665\n",
      "Epoch 4/50.. Train loss: 1.202.. Test loss: 1.338.. Test accuracy: 0.661\n",
      "Epoch 4/50.. Train loss: 1.294.. Test loss: 1.309.. Test accuracy: 0.671\n",
      "Epoch 4/50.. Train loss: 1.199.. Test loss: 1.268.. Test accuracy: 0.671\n",
      "Epoch 4/50.. Train loss: 1.176.. Test loss: 1.281.. Test accuracy: 0.668\n",
      "Epoch 5/50.. Train loss: 1.193.. Test loss: 1.275.. Test accuracy: 0.661\n",
      "Epoch 5/50.. Train loss: 1.126.. Test loss: 1.236.. Test accuracy: 0.680\n",
      "Epoch 5/50.. Train loss: 1.107.. Test loss: 1.269.. Test accuracy: 0.661\n",
      "Epoch 5/50.. Train loss: 1.096.. Test loss: 1.213.. Test accuracy: 0.682\n",
      "Epoch 5/50.. Train loss: 1.072.. Test loss: 1.204.. Test accuracy: 0.679\n",
      "Epoch 5/50.. Train loss: 1.049.. Test loss: 1.199.. Test accuracy: 0.682\n",
      "Epoch 6/50.. Train loss: 1.159.. Test loss: 1.213.. Test accuracy: 0.679\n",
      "Epoch 6/50.. Train loss: 0.973.. Test loss: 1.202.. Test accuracy: 0.678\n",
      "Epoch 6/50.. Train loss: 1.060.. Test loss: 1.161.. Test accuracy: 0.687\n",
      "Epoch 6/50.. Train loss: 1.053.. Test loss: 1.162.. Test accuracy: 0.690\n",
      "Epoch 6/50.. Train loss: 0.983.. Test loss: 1.167.. Test accuracy: 0.681\n",
      "Epoch 6/50.. Train loss: 0.994.. Test loss: 1.188.. Test accuracy: 0.678\n",
      "Epoch 7/50.. Train loss: 0.970.. Test loss: 1.175.. Test accuracy: 0.683\n",
      "Epoch 7/50.. Train loss: 0.971.. Test loss: 1.147.. Test accuracy: 0.684\n",
      "Epoch 7/50.. Train loss: 0.926.. Test loss: 1.136.. Test accuracy: 0.691\n",
      "Epoch 7/50.. Train loss: 0.922.. Test loss: 1.137.. Test accuracy: 0.688\n",
      "Epoch 7/50.. Train loss: 0.985.. Test loss: 1.128.. Test accuracy: 0.694\n",
      "Epoch 7/50.. Train loss: 0.901.. Test loss: 1.136.. Test accuracy: 0.693\n",
      "Epoch 7/50.. Train loss: 0.927.. Test loss: 1.133.. Test accuracy: 0.687\n",
      "Epoch 8/50.. Train loss: 0.844.. Test loss: 1.125.. Test accuracy: 0.689\n",
      "Epoch 8/50.. Train loss: 0.829.. Test loss: 1.097.. Test accuracy: 0.695\n",
      "Epoch 8/50.. Train loss: 0.839.. Test loss: 1.121.. Test accuracy: 0.690\n",
      "Epoch 8/50.. Train loss: 0.864.. Test loss: 1.111.. Test accuracy: 0.692\n",
      "Epoch 8/50.. Train loss: 0.903.. Test loss: 1.101.. Test accuracy: 0.691\n",
      "Epoch 8/50.. Train loss: 0.973.. Test loss: 1.114.. Test accuracy: 0.690\n",
      "Epoch 9/50.. Train loss: 0.824.. Test loss: 1.123.. Test accuracy: 0.680\n",
      "Epoch 9/50.. Train loss: 0.804.. Test loss: 1.112.. Test accuracy: 0.690\n",
      "Epoch 9/50.. Train loss: 0.861.. Test loss: 1.103.. Test accuracy: 0.692\n",
      "Epoch 9/50.. Train loss: 0.856.. Test loss: 1.089.. Test accuracy: 0.695\n",
      "Epoch 9/50.. Train loss: 0.779.. Test loss: 1.114.. Test accuracy: 0.688\n",
      "Epoch 9/50.. Train loss: 0.808.. Test loss: 1.084.. Test accuracy: 0.697\n",
      "Epoch 10/50.. Train loss: 0.846.. Test loss: 1.071.. Test accuracy: 0.699\n",
      "Epoch 10/50.. Train loss: 0.781.. Test loss: 1.076.. Test accuracy: 0.700\n",
      "Epoch 10/50.. Train loss: 0.819.. Test loss: 1.085.. Test accuracy: 0.690\n",
      "Epoch 10/50.. Train loss: 0.794.. Test loss: 1.058.. Test accuracy: 0.702\n",
      "Epoch 10/50.. Train loss: 0.754.. Test loss: 1.081.. Test accuracy: 0.693\n",
      "Epoch 10/50.. Train loss: 0.816.. Test loss: 1.086.. Test accuracy: 0.698\n",
      "Epoch 10/50.. Train loss: 0.845.. Test loss: 1.085.. Test accuracy: 0.691\n",
      "Epoch 11/50.. Train loss: 0.803.. Test loss: 1.074.. Test accuracy: 0.695\n",
      "Epoch 11/50.. Train loss: 0.757.. Test loss: 1.058.. Test accuracy: 0.697\n",
      "Epoch 11/50.. Train loss: 0.728.. Test loss: 1.078.. Test accuracy: 0.693\n",
      "Epoch 11/50.. Train loss: 0.776.. Test loss: 1.061.. Test accuracy: 0.704\n",
      "Epoch 11/50.. Train loss: 0.767.. Test loss: 1.041.. Test accuracy: 0.706\n",
      "Epoch 11/50.. Train loss: 0.738.. Test loss: 1.077.. Test accuracy: 0.689\n",
      "Epoch 12/50.. Train loss: 0.721.. Test loss: 1.102.. Test accuracy: 0.686\n",
      "Epoch 12/50.. Train loss: 0.740.. Test loss: 1.061.. Test accuracy: 0.698\n",
      "Epoch 12/50.. Train loss: 0.754.. Test loss: 1.046.. Test accuracy: 0.700\n",
      "Epoch 12/50.. Train loss: 0.732.. Test loss: 1.055.. Test accuracy: 0.700\n",
      "Epoch 12/50.. Train loss: 0.745.. Test loss: 1.065.. Test accuracy: 0.697\n",
      "Epoch 12/50.. Train loss: 0.745.. Test loss: 1.057.. Test accuracy: 0.700\n",
      "Epoch 13/50.. Train loss: 0.677.. Test loss: 1.052.. Test accuracy: 0.701\n",
      "Epoch 13/50.. Train loss: 0.740.. Test loss: 1.062.. Test accuracy: 0.692\n",
      "Epoch 13/50.. Train loss: 0.646.. Test loss: 1.050.. Test accuracy: 0.699\n",
      "Epoch 13/50.. Train loss: 0.701.. Test loss: 1.056.. Test accuracy: 0.698\n",
      "Epoch 13/50.. Train loss: 0.738.. Test loss: 1.053.. Test accuracy: 0.700\n",
      "Epoch 13/50.. Train loss: 0.665.. Test loss: 1.063.. Test accuracy: 0.696\n",
      "Epoch 14/50.. Train loss: 0.741.. Test loss: 1.050.. Test accuracy: 0.705\n",
      "Epoch 14/50.. Train loss: 0.595.. Test loss: 1.034.. Test accuracy: 0.709\n",
      "Epoch 14/50.. Train loss: 0.692.. Test loss: 1.057.. Test accuracy: 0.700\n",
      "Epoch 14/50.. Train loss: 0.652.. Test loss: 1.059.. Test accuracy: 0.701\n",
      "Epoch 14/50.. Train loss: 0.689.. Test loss: 1.070.. Test accuracy: 0.695\n",
      "Epoch 14/50.. Train loss: 0.676.. Test loss: 1.063.. Test accuracy: 0.688\n",
      "Epoch 14/50.. Train loss: 0.711.. Test loss: 1.025.. Test accuracy: 0.707\n",
      "Epoch 15/50.. Train loss: 0.695.. Test loss: 1.055.. Test accuracy: 0.696\n",
      "Epoch 15/50.. Train loss: 0.630.. Test loss: 1.036.. Test accuracy: 0.702\n",
      "Epoch 15/50.. Train loss: 0.588.. Test loss: 1.029.. Test accuracy: 0.707\n",
      "Epoch 15/50.. Train loss: 0.754.. Test loss: 1.050.. Test accuracy: 0.700\n",
      "Epoch 15/50.. Train loss: 0.721.. Test loss: 1.075.. Test accuracy: 0.693\n",
      "Epoch 15/50.. Train loss: 0.685.. Test loss: 1.037.. Test accuracy: 0.701\n",
      "Epoch 16/50.. Train loss: 0.625.. Test loss: 1.042.. Test accuracy: 0.705\n",
      "Epoch 16/50.. Train loss: 0.706.. Test loss: 1.029.. Test accuracy: 0.704\n",
      "Epoch 16/50.. Train loss: 0.689.. Test loss: 1.026.. Test accuracy: 0.703\n",
      "Epoch 16/50.. Train loss: 0.589.. Test loss: 1.030.. Test accuracy: 0.700\n",
      "Epoch 16/50.. Train loss: 0.603.. Test loss: 1.029.. Test accuracy: 0.706\n",
      "Epoch 16/50.. Train loss: 0.702.. Test loss: 1.045.. Test accuracy: 0.702\n",
      "Epoch 17/50.. Train loss: 0.684.. Test loss: 1.045.. Test accuracy: 0.697\n",
      "Epoch 17/50.. Train loss: 0.622.. Test loss: 1.044.. Test accuracy: 0.698\n",
      "Epoch 17/50.. Train loss: 0.661.. Test loss: 1.040.. Test accuracy: 0.703\n",
      "Epoch 17/50.. Train loss: 0.662.. Test loss: 1.045.. Test accuracy: 0.698\n",
      "Epoch 17/50.. Train loss: 0.637.. Test loss: 1.050.. Test accuracy: 0.703\n",
      "Epoch 17/50.. Train loss: 0.613.. Test loss: 1.053.. Test accuracy: 0.697\n",
      "Epoch 17/50.. Train loss: 0.651.. Test loss: 1.035.. Test accuracy: 0.706\n",
      "Epoch 18/50.. Train loss: 0.562.. Test loss: 1.032.. Test accuracy: 0.704\n",
      "Epoch 18/50.. Train loss: 0.627.. Test loss: 1.045.. Test accuracy: 0.700\n",
      "Epoch 18/50.. Train loss: 0.548.. Test loss: 1.032.. Test accuracy: 0.704\n",
      "Epoch 18/50.. Train loss: 0.635.. Test loss: 1.032.. Test accuracy: 0.702\n",
      "Epoch 18/50.. Train loss: 0.660.. Test loss: 1.038.. Test accuracy: 0.701\n",
      "Epoch 18/50.. Train loss: 0.642.. Test loss: 1.022.. Test accuracy: 0.701\n",
      "Epoch 19/50.. Train loss: 0.623.. Test loss: 1.032.. Test accuracy: 0.698\n",
      "Epoch 19/50.. Train loss: 0.624.. Test loss: 1.057.. Test accuracy: 0.696\n",
      "Epoch 19/50.. Train loss: 0.621.. Test loss: 1.023.. Test accuracy: 0.708\n",
      "Epoch 19/50.. Train loss: 0.586.. Test loss: 1.018.. Test accuracy: 0.705\n",
      "Epoch 19/50.. Train loss: 0.581.. Test loss: 1.020.. Test accuracy: 0.704\n",
      "Epoch 19/50.. Train loss: 0.530.. Test loss: 1.024.. Test accuracy: 0.707\n",
      "Epoch 20/50.. Train loss: 0.601.. Test loss: 1.024.. Test accuracy: 0.707\n",
      "Epoch 20/50.. Train loss: 0.533.. Test loss: 1.066.. Test accuracy: 0.692\n",
      "Epoch 20/50.. Train loss: 0.534.. Test loss: 1.030.. Test accuracy: 0.703\n",
      "Epoch 20/50.. Train loss: 0.530.. Test loss: 1.028.. Test accuracy: 0.705\n",
      "Epoch 20/50.. Train loss: 0.544.. Test loss: 1.041.. Test accuracy: 0.695\n",
      "Epoch 20/50.. Train loss: 0.625.. Test loss: 1.040.. Test accuracy: 0.697\n",
      "Epoch 20/50.. Train loss: 0.670.. Test loss: 1.034.. Test accuracy: 0.704\n",
      "Epoch 21/50.. Train loss: 0.486.. Test loss: 1.018.. Test accuracy: 0.711\n",
      "Epoch 21/50.. Train loss: 0.606.. Test loss: 1.033.. Test accuracy: 0.701\n",
      "Epoch 21/50.. Train loss: 0.589.. Test loss: 1.048.. Test accuracy: 0.696\n",
      "Epoch 21/50.. Train loss: 0.521.. Test loss: 1.048.. Test accuracy: 0.699\n",
      "Epoch 21/50.. Train loss: 0.572.. Test loss: 1.038.. Test accuracy: 0.700\n",
      "Epoch 21/50.. Train loss: 0.620.. Test loss: 1.041.. Test accuracy: 0.699\n",
      "Epoch 22/50.. Train loss: 0.615.. Test loss: 1.033.. Test accuracy: 0.700\n",
      "Epoch 22/50.. Train loss: 0.557.. Test loss: 1.032.. Test accuracy: 0.701\n",
      "Epoch 22/50.. Train loss: 0.518.. Test loss: 1.040.. Test accuracy: 0.695\n",
      "Epoch 22/50.. Train loss: 0.559.. Test loss: 1.029.. Test accuracy: 0.706\n",
      "Epoch 22/50.. Train loss: 0.603.. Test loss: 1.036.. Test accuracy: 0.704\n",
      "Epoch 22/50.. Train loss: 0.522.. Test loss: 1.027.. Test accuracy: 0.701\n",
      "Epoch 23/50.. Train loss: 0.469.. Test loss: 1.022.. Test accuracy: 0.705\n",
      "Epoch 23/50.. Train loss: 0.517.. Test loss: 1.026.. Test accuracy: 0.706\n",
      "Epoch 23/50.. Train loss: 0.566.. Test loss: 1.034.. Test accuracy: 0.701\n",
      "Epoch 23/50.. Train loss: 0.516.. Test loss: 1.037.. Test accuracy: 0.698\n",
      "Epoch 23/50.. Train loss: 0.539.. Test loss: 1.048.. Test accuracy: 0.698\n",
      "Epoch 23/50.. Train loss: 0.609.. Test loss: 1.016.. Test accuracy: 0.709\n",
      "Epoch 24/50.. Train loss: 0.521.. Test loss: 1.023.. Test accuracy: 0.702\n",
      "Epoch 24/50.. Train loss: 0.523.. Test loss: 1.036.. Test accuracy: 0.697\n",
      "Epoch 24/50.. Train loss: 0.574.. Test loss: 1.031.. Test accuracy: 0.700\n",
      "Epoch 24/50.. Train loss: 0.479.. Test loss: 1.049.. Test accuracy: 0.702\n",
      "Epoch 24/50.. Train loss: 0.562.. Test loss: 1.040.. Test accuracy: 0.697\n",
      "Epoch 24/50.. Train loss: 0.558.. Test loss: 1.050.. Test accuracy: 0.698\n",
      "Epoch 24/50.. Train loss: 0.568.. Test loss: 1.033.. Test accuracy: 0.703\n",
      "Epoch 25/50.. Train loss: 0.494.. Test loss: 1.037.. Test accuracy: 0.704\n",
      "Epoch 25/50.. Train loss: 0.488.. Test loss: 1.035.. Test accuracy: 0.702\n",
      "Epoch 25/50.. Train loss: 0.535.. Test loss: 1.034.. Test accuracy: 0.698\n",
      "Epoch 25/50.. Train loss: 0.485.. Test loss: 1.028.. Test accuracy: 0.709\n",
      "Epoch 25/50.. Train loss: 0.587.. Test loss: 1.037.. Test accuracy: 0.701\n",
      "Epoch 25/50.. Train loss: 0.516.. Test loss: 1.050.. Test accuracy: 0.698\n",
      "Epoch 26/50.. Train loss: 0.426.. Test loss: 1.038.. Test accuracy: 0.696\n",
      "Epoch 26/50.. Train loss: 0.461.. Test loss: 1.045.. Test accuracy: 0.703\n",
      "Epoch 26/50.. Train loss: 0.550.. Test loss: 1.032.. Test accuracy: 0.707\n",
      "Epoch 26/50.. Train loss: 0.565.. Test loss: 1.026.. Test accuracy: 0.704\n",
      "Epoch 26/50.. Train loss: 0.527.. Test loss: 1.041.. Test accuracy: 0.702\n",
      "Epoch 26/50.. Train loss: 0.501.. Test loss: 1.030.. Test accuracy: 0.705\n",
      "Epoch 27/50.. Train loss: 0.512.. Test loss: 1.032.. Test accuracy: 0.701\n",
      "Epoch 27/50.. Train loss: 0.442.. Test loss: 1.048.. Test accuracy: 0.694\n",
      "Epoch 27/50.. Train loss: 0.477.. Test loss: 1.037.. Test accuracy: 0.700\n",
      "Epoch 27/50.. Train loss: 0.519.. Test loss: 1.042.. Test accuracy: 0.704\n",
      "Epoch 27/50.. Train loss: 0.523.. Test loss: 1.026.. Test accuracy: 0.711\n",
      "Epoch 27/50.. Train loss: 0.547.. Test loss: 1.032.. Test accuracy: 0.702\n",
      "Epoch 27/50.. Train loss: 0.488.. Test loss: 1.034.. Test accuracy: 0.703\n",
      "Epoch 28/50.. Train loss: 0.470.. Test loss: 1.062.. Test accuracy: 0.697\n",
      "Epoch 28/50.. Train loss: 0.457.. Test loss: 1.022.. Test accuracy: 0.702\n",
      "Epoch 28/50.. Train loss: 0.497.. Test loss: 1.014.. Test accuracy: 0.710\n",
      "Epoch 28/50.. Train loss: 0.482.. Test loss: 1.031.. Test accuracy: 0.704\n",
      "Epoch 28/50.. Train loss: 0.505.. Test loss: 1.038.. Test accuracy: 0.704\n",
      "Epoch 28/50.. Train loss: 0.505.. Test loss: 1.031.. Test accuracy: 0.703\n",
      "Epoch 29/50.. Train loss: 0.518.. Test loss: 1.039.. Test accuracy: 0.698\n",
      "Epoch 29/50.. Train loss: 0.479.. Test loss: 1.050.. Test accuracy: 0.699\n",
      "Epoch 29/50.. Train loss: 0.499.. Test loss: 1.017.. Test accuracy: 0.708\n",
      "Epoch 29/50.. Train loss: 0.470.. Test loss: 1.039.. Test accuracy: 0.702\n",
      "Epoch 29/50.. Train loss: 0.494.. Test loss: 1.047.. Test accuracy: 0.699\n",
      "Epoch 29/50.. Train loss: 0.524.. Test loss: 1.042.. Test accuracy: 0.702\n",
      "Epoch 30/50.. Train loss: 0.537.. Test loss: 1.026.. Test accuracy: 0.705\n",
      "Epoch 30/50.. Train loss: 0.453.. Test loss: 1.040.. Test accuracy: 0.703\n",
      "Epoch 30/50.. Train loss: 0.456.. Test loss: 1.062.. Test accuracy: 0.700\n",
      "Epoch 30/50.. Train loss: 0.489.. Test loss: 1.041.. Test accuracy: 0.705\n",
      "Epoch 30/50.. Train loss: 0.466.. Test loss: 1.059.. Test accuracy: 0.696\n",
      "Epoch 30/50.. Train loss: 0.500.. Test loss: 1.048.. Test accuracy: 0.697\n",
      "Epoch 30/50.. Train loss: 0.522.. Test loss: 1.033.. Test accuracy: 0.703\n",
      "Epoch 31/50.. Train loss: 0.455.. Test loss: 1.024.. Test accuracy: 0.712\n",
      "Epoch 31/50.. Train loss: 0.416.. Test loss: 1.038.. Test accuracy: 0.703\n",
      "Epoch 31/50.. Train loss: 0.526.. Test loss: 1.056.. Test accuracy: 0.699\n"
     ]
    },
    {
     "ename": "KeyboardInterrupt",
     "evalue": "",
     "output_type": "error",
     "traceback": [
      "\u001B[1;31m---------------------------------------------------------------------------\u001B[0m",
      "\u001B[1;31mKeyboardInterrupt\u001B[0m                         Traceback (most recent call last)",
      "\u001B[1;32m<ipython-input-43-9d8e701bd2e8>\u001B[0m in \u001B[0;36m<module>\u001B[1;34m\u001B[0m\n\u001B[0;32m     33\u001B[0m                     \u001B[0mlogps\u001B[0m \u001B[1;33m=\u001B[0m \u001B[0mactivity_model\u001B[0m\u001B[1;33m.\u001B[0m\u001B[0mforward\u001B[0m\u001B[1;33m(\u001B[0m\u001B[0minputs\u001B[0m\u001B[1;33m)\u001B[0m\u001B[1;33m\u001B[0m\u001B[1;33m\u001B[0m\u001B[0m\n\u001B[0;32m     34\u001B[0m                     \u001B[0mbatch_loss\u001B[0m \u001B[1;33m=\u001B[0m \u001B[0mcriterion\u001B[0m\u001B[1;33m(\u001B[0m\u001B[0mlogps\u001B[0m\u001B[1;33m,\u001B[0m \u001B[0mlabels\u001B[0m\u001B[1;33m)\u001B[0m\u001B[1;33m\u001B[0m\u001B[1;33m\u001B[0m\u001B[0m\n\u001B[1;32m---> 35\u001B[1;33m                     \u001B[0mtest_loss\u001B[0m \u001B[1;33m+=\u001B[0m \u001B[0mbatch_loss\u001B[0m\u001B[1;33m.\u001B[0m\u001B[0mitem\u001B[0m\u001B[1;33m(\u001B[0m\u001B[1;33m)\u001B[0m\u001B[1;33m\u001B[0m\u001B[1;33m\u001B[0m\u001B[0m\n\u001B[0m\u001B[0;32m     36\u001B[0m \u001B[1;33m\u001B[0m\u001B[0m\n\u001B[0;32m     37\u001B[0m                     \u001B[0mps\u001B[0m \u001B[1;33m=\u001B[0m \u001B[0mtorch\u001B[0m\u001B[1;33m.\u001B[0m\u001B[0mexp\u001B[0m\u001B[1;33m(\u001B[0m\u001B[0mlogps\u001B[0m\u001B[1;33m)\u001B[0m\u001B[1;33m\u001B[0m\u001B[1;33m\u001B[0m\u001B[0m\n",
      "\u001B[1;31mKeyboardInterrupt\u001B[0m: "
     ]
    }
   ],
   "source": [
    "epochs = 50\n",
    "steps = 0\n",
    "running_loss = 0\n",
    "best_accuracy = 0\n",
    "test_accuracy = 0\n",
    "print_every = 10\n",
    "train_losses, test_losses = [], []\n",
    "\n",
    "path = 'saved_model/'\n",
    "\n",
    "activity_model.cuda()\n",
    "\n",
    "for epoch in range(epochs):\n",
    "    for inputs, labels in trainloader:\n",
    "        steps += 1\n",
    "        inputs = inputs.cuda()\n",
    "        labels = labels.cuda()\n",
    "        optimizer.zero_grad()\n",
    "        logps = activity_model.forward(inputs)\n",
    "        loss = criterion(logps, labels)\n",
    "        loss.backward()\n",
    "        optimizer.step()\n",
    "        running_loss += loss.item()\n",
    "\n",
    "        if steps % print_every == 0:\n",
    "            test_loss = 0\n",
    "            accuracy = 0\n",
    "            activity_model.eval()\n",
    "            with torch.no_grad():\n",
    "                for inputs, labels in testloader:\n",
    "                    inputs = inputs.cuda()\n",
    "                    labels = labels.cuda()\n",
    "                    logps = activity_model.forward(inputs)\n",
    "                    batch_loss = criterion(logps, labels)\n",
    "                    test_loss += batch_loss.item()\n",
    "\n",
    "                    ps = torch.exp(logps)\n",
    "                    top_p, top_class = ps.topk(1, dim=1)\n",
    "                    equals = top_class == labels.view(*top_class.shape)\n",
    "                    accuracy += torch.mean(equals.type(torch.FloatTensor)).item()\n",
    "            train_losses.append(running_loss/len(trainloader))\n",
    "            test_losses.append(test_loss/len(testloader))\n",
    "            print(f\"Epoch {epoch+1}/{epochs}.. \"\n",
    "                  f\"Train loss: {running_loss/print_every:.3f}.. \"\n",
    "                  f\"Test loss: {test_loss/len(testloader):.3f}.. \"\n",
    "                  f\"Test accuracy: {accuracy/len(testloader):.3f}\")\n",
    "            test_accuracy = accuracy/len(testloader)\n",
    "            running_loss = 0\n",
    "            activity_model.train()\n",
    "    if test_accuracy > best_accuracy:\n",
    "        torch.save(activity_model, path + 'activity_model.pth')\n",
    "        best_accuracy = test_accuracy"
   ],
   "metadata": {
    "collapsed": false,
    "pycharm": {
     "name": "#%%\n"
    }
   }
  },
  {
   "cell_type": "code",
   "execution_count": null,
   "outputs": [],
   "source": [],
   "metadata": {
    "collapsed": false,
    "pycharm": {
     "name": "#%%\n"
    }
   }
  }
 ],
 "metadata": {
  "kernelspec": {
   "display_name": "Python 3",
   "language": "python",
   "name": "python3"
  },
  "language_info": {
   "codemirror_mode": {
    "name": "ipython",
    "version": 2
   },
   "file_extension": ".py",
   "mimetype": "text/x-python",
   "name": "python",
   "nbconvert_exporter": "python",
   "pygments_lexer": "ipython2",
   "version": "2.7.6"
  }
 },
 "nbformat": 4,
 "nbformat_minor": 0
}